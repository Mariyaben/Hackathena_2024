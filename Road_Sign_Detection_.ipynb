{
  "nbformat": 4,
  "nbformat_minor": 0,
  "metadata": {
    "colab": {
      "provenance": [],
      "authorship_tag": "ABX9TyMIQwqQximh6vrgieC3r+rJ"
    },
    "kernelspec": {
      "name": "python3",
      "display_name": "Python 3"
    },
    "language_info": {
      "name": "python"
    }
  },
  "cells": [
    {
      "cell_type": "code",
      "source": [
        "! pip install openai==1.0.0\n",
        "! pip install load_dotenv\n",
        "! pip install gtts\n",
        "! pip install gtts pydub\n",
        "! pip install playsound\n",
        "! pip install roboflow\n",
        "!pip install pydub\n",
        "! pip install pyttsx3"
      ],
      "metadata": {
        "id": "KMlH-CaU-vvL"
      },
      "execution_count": null,
      "outputs": []
    },
    {
      "cell_type": "code",
      "execution_count": 28,
      "metadata": {
        "id": "nFNeXNpT5wPS"
      },
      "outputs": [],
      "source": [
        "import openai\n",
        "import os\n",
        "\n",
        "from dotenv import load_dotenv\n",
        "OPENAI_API_KEY = \"Add OPEN-API Key\"\n",
        "\n",
        "# Load the environment variables\n",
        "load_dotenv()\n",
        "\n",
        "# Set the OpenAI API key\n",
        "openai.api_key = os.getenv('OPENAI_API_KEY')"
      ]
    },
    {
      "cell_type": "code",
      "source": [
        "%env OPENAI_API_KEY= OPENAI_API_KEY #Add API Key"
      ],
      "metadata": {
        "id": "jQ6JTY9j6VqU"
      },
      "execution_count": null,
      "outputs": []
    },
    {
      "cell_type": "code",
      "source": [
        "def get_completion(prompt, model=\"gpt-3.5-turbo\"):\n",
        "    messages = [{\"role\": \"user\", \"content\": prompt}]\n",
        "    response = openai.chat.completions.create(\n",
        "        model=model,\n",
        "        messages=messages,\n",
        "        temperature=0, # this is the degree of randomness of the model's output\n",
        "    )\n",
        "    return response.choices[0].message.content"
      ],
      "metadata": {
        "id": "7K130Yyd6pb7"
      },
      "execution_count": 30,
      "outputs": []
    },
    {
      "cell_type": "code",
      "source": [
        "from roboflow import Roboflow\n",
        "from IPython.display import Audio\n",
        "import json\n",
        "import pyttsx3\n",
        "from gtts import gTTS\n",
        "\n",
        "# Initialize Roboflow\n",
        "rf = Roboflow(api_key=\"OPMeISeEpQl74oLVReUR\")\n",
        "project = rf.workspace().project(\"car_-w0bxi\")\n",
        "model = project.version(1).model\n",
        "\n",
        "# Predict video\n",
        "job_id, signed_url, _ = model.predict_video(\n",
        "    \"Road_Sign.mp4\",\n",
        "    fps=3,\n",
        "    prediction_type=\"batch-video\",\n",
        ")\n",
        "print(\"Signed URL\", signed_url)\n",
        "\n",
        "# Get video results\n",
        "results = model.poll_until_video_results(job_id)\n",
        "print(\"Results\", results)\n",
        "\n",
        "# Extract classes from predictions\n",
        "classes = []\n",
        "\n",
        "for frame_data in results['car_-w0bxi']:\n",
        "    for prediction in frame_data['predictions']:\n",
        "        class_name = prediction['class']\n",
        "        classes.append(class_name)\n",
        "\n",
        "# Initialize text-to-speech engine\n",
        "\n",
        "# Initialize an array to store responses\n",
        "responses_array = []\n",
        "\n",
        "# Initialize a variable to keep track of the last printed response\n",
        "last_printed_response = None\n",
        "\n",
        "# Feed classes into OpenAI prompt\n",
        "for class_name in classes:\n",
        "    prompt = f\"\"\"\n",
        "    Your task is to direct and give instructions to a driver as there is a {class_name} approaching ahead.\n",
        "\n",
        "    Write a description based on the information provided only by not providing extra information in the technical specifications delimited by triple backticks.\n",
        "\n",
        "    Use at most 5 words.\n",
        "\n",
        "    Technical specifications: {class_name}\n",
        "    \"\"\"\n",
        "    response = get_completion(prompt)\n",
        "\n",
        "    # Append the response to the array\n",
        "    responses_array.append(response)\n",
        "\n",
        "    # Print the response only if it's different from the last printed response\n",
        "    if response != last_printed_response:\n",
        "        print(response)\n",
        "\n",
        "        last_printed_response = response\n",
        "\n",
        "# Now responses_array contains all the responses\n",
        "# You can iterate over it to perform further actions"
      ],
      "metadata": {
        "id": "CH2udD077aii"
      },
      "execution_count": null,
      "outputs": []
    },
    {
      "cell_type": "code",
      "source": [
        "from gtts import gTTS\n",
        "from IPython.display import Audio\n",
        "import time\n",
        "\n",
        "# Iterate over the responses array\n",
        "for response in responses_array:\n",
        "    # Generate speech from the response\n",
        "    tts = gTTS(response)\n",
        "\n",
        "    # Save the speech as a .wav file\n",
        "    output_file = 'output.wav'\n",
        "    tts.save(output_file)\n",
        "\n",
        "    # Play the audio\n",
        "    display(Audio(output_file, autoplay=True))\n",
        "\n",
        "    # Wait for the audio to finish playing\n",
        "    time.sleep(4)  # Adjust the duration as needed"
      ],
      "metadata": {
        "id": "ORxbkFd17byW"
      },
      "execution_count": null,
      "outputs": []
    }
  ]
}